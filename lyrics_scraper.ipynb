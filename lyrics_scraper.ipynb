{
  "cells": [
    {
      "cell_type": "markdown",
      "metadata": {
        "id": "header"
      },
      "source": [
        "# Beatles Lyrics Scraper\n",
        "\n",
        "This notebook scrapes Beatles song lyrics from Genius.com and saves them as a clean text file.\n",
        "\n",
        "## 📋 Setup Instructions:\n",
        "1. Get your Genius API token at: https://genius.com/api-clients\n",
        "2. Click the 🔑 key icon in the left sidebar (Secrets)\n",
        "3. Add a new secret:\n",
        "   - **Name**: `GENIUS_TOKEN`\n",
        "   - **Value**: Your Genius API token\n",
        "   - **Enable**: \"Notebook access\"\n",
        "4. Run all cells below\n",
        "\n",
        "---"
      ]
    },
    {
      "cell_type": "markdown",
      "metadata": {
        "id": "install"
      },
      "source": [
        "## 📦 Install Dependencies"
      ]
    },
    {
      "cell_type": "code",
      "execution_count": 1,
      "metadata": {
        "id": "install_deps",
        "colab": {
          "base_uri": "https://localhost:8080/"
        },
        "outputId": "f605e7c5-653e-406e-bde0-5774be7f5a93"
      },
      "outputs": [
        {
          "output_type": "stream",
          "name": "stdout",
          "text": [
            "Collecting lyricsgenius\n",
            "  Downloading lyricsgenius-3.7.2-py3-none-any.whl.metadata (6.1 kB)\n",
            "Requirement already satisfied: beautifulsoup4>=4.12.3 in /usr/local/lib/python3.12/dist-packages (from lyricsgenius) (4.13.5)\n",
            "Requirement already satisfied: requests>=2.27.1 in /usr/local/lib/python3.12/dist-packages (from lyricsgenius) (2.32.4)\n",
            "Requirement already satisfied: soupsieve>1.2 in /usr/local/lib/python3.12/dist-packages (from beautifulsoup4>=4.12.3->lyricsgenius) (2.7)\n",
            "Requirement already satisfied: typing-extensions>=4.0.0 in /usr/local/lib/python3.12/dist-packages (from beautifulsoup4>=4.12.3->lyricsgenius) (4.15.0)\n",
            "Requirement already satisfied: charset_normalizer<4,>=2 in /usr/local/lib/python3.12/dist-packages (from requests>=2.27.1->lyricsgenius) (3.4.3)\n",
            "Requirement already satisfied: idna<4,>=2.5 in /usr/local/lib/python3.12/dist-packages (from requests>=2.27.1->lyricsgenius) (3.10)\n",
            "Requirement already satisfied: urllib3<3,>=1.21.1 in /usr/local/lib/python3.12/dist-packages (from requests>=2.27.1->lyricsgenius) (2.5.0)\n",
            "Requirement already satisfied: certifi>=2017.4.17 in /usr/local/lib/python3.12/dist-packages (from requests>=2.27.1->lyricsgenius) (2025.8.3)\n",
            "Downloading lyricsgenius-3.7.2-py3-none-any.whl (48 kB)\n",
            "\u001b[2K   \u001b[90m━━━━━━━━━━━━━━━━━━━━━━━━━━━━━━━━━━━━━━━━\u001b[0m \u001b[32m48.4/48.4 kB\u001b[0m \u001b[31m534.7 kB/s\u001b[0m eta \u001b[36m0:00:00\u001b[0m\n",
            "\u001b[?25hInstalling collected packages: lyricsgenius\n",
            "Successfully installed lyricsgenius-3.7.2\n"
          ]
        }
      ],
      "source": [
        "!pip install lyricsgenius"
      ]
    },
    {
      "cell_type": "markdown",
      "metadata": {
        "id": "imports"
      },
      "source": [
        "## 📚 Import Libraries"
      ]
    },
    {
      "cell_type": "code",
      "execution_count": 3,
      "metadata": {
        "id": "imports_cell"
      },
      "outputs": [],
      "source": [
        "import json\n",
        "from lyricsgenius import Genius\n",
        "import re\n",
        "import os\n",
        "from google.colab import files, userdata"
      ]
    },
    {
      "cell_type": "markdown",
      "metadata": {
        "id": "functions"
      },
      "source": [
        "## 🔧 Define Functions"
      ]
    },
    {
      "cell_type": "code",
      "execution_count": 12,
      "metadata": {
        "id": "functions_cell"
      },
      "outputs": [],
      "source": [
        "def get_credentials():\n",
        "    \"\"\"Get credentials from Colab environment variables\"\"\"\n",
        "    try:\n",
        "        token = userdata.get('GENIUS_TOKEN')\n",
        "        print(\"Token loaded from Colab secrets\")\n",
        "        return token\n",
        "    except:\n",
        "        try:\n",
        "            token = os.getenv('GENIUS_TOKEN')\n",
        "            if token:\n",
        "                print(\"Token loaded from environment variable\")\n",
        "                return token\n",
        "            else:\n",
        "                raise ValueError(\"No token found\")\n",
        "        except:\n",
        "            print(\"No token found in secrets or environment variables\")\n",
        "            token = input(\"Enter your Genius API token: \")\n",
        "            return token\n",
        "\n",
        "def scrape_beatles_lyrics(max_songs=500):\n",
        "    \"\"\"\n",
        "    Scrape Beatles lyrics and return as simple text\n",
        "\n",
        "    Args:\n",
        "        max_songs: Maximum number of songs to scrape\n",
        "\n",
        "    Returns:\n",
        "        String containing all lyrics with titles\n",
        "    \"\"\"\n",
        "    # Setup Genius client\n",
        "    token = get_credentials()\n",
        "    genius = Genius(token, timeout=500)\n",
        "    genius.remove_section_headers = False  # Keep structure like [Verse], [Chorus]\n",
        "    genius.verbose = False\n",
        "\n",
        "    # Get Beatles songs\n",
        "    print(f\"Searching for The Beatles songs (max: {max_songs})...\")\n",
        "    artist = genius.search_artist('The Beatles', max_songs=max_songs)\n",
        "    songs = artist.songs\n",
        "\n",
        "    print(f\"Found {len(songs)} songs. Processing...\")\n",
        "\n",
        "    # Process all lyrics with deduplication\n",
        "    all_lyrics = \"\"\n",
        "    seen_titles = set()\n",
        "\n",
        "    for i, song in enumerate(songs, 1):\n",
        "        try:\n",
        "            # Skip items with 'Film script' etc in title\n",
        "            if 'film script' in song.title.lower():\n",
        "                continue\n",
        "\n",
        "            # Check for duplicates\n",
        "            normalized = normalize_title(song.title)\n",
        "            if normalized in seen_titles:\n",
        "                continue\n",
        "            seen_titles.add(normalized)\n",
        "\n",
        "            # Clean title for display and add in angle brackets\n",
        "            display_title = clean_title_display(song.title)\n",
        "            song_title = f\"<{display_title}>\"\n",
        "\n",
        "            # Get and clean lyrics\n",
        "            raw_lyrics = song.lyrics if song.lyrics else \"\"\n",
        "\n",
        "            # Skip if lyrics suggest it's not a song\n",
        "            lyrics_lower = raw_lyrics.lower()\n",
        "            if any(term in lyrics_lower for term in ['compilation discography', 'discography', 'tracklist']):\n",
        "                continue\n",
        "\n",
        "            # Basic cleaning\n",
        "            lines = raw_lyrics.split('\\n')\n",
        "            clean_lines = []\n",
        "\n",
        "            for line in lines:\n",
        "                line = line.strip()\n",
        "                # Skip empty lines, contributors, embed numbers, \"You might also like\", and dialog\n",
        "                if (line and\n",
        "                    'Contributors' not in line and\n",
        "                    'You might also like' not in line and\n",
        "                    not re.match(r'^\\d+Embed$', line) and\n",
        "                    not re.match(r'^[A-Z][A-Za-z\\s]*:\\s', line)):  # Skip dialog like \"NARRATOR: \" or \"Ringo: \"\n",
        "\n",
        "                    # Remove all section headers like '[Verse 1]', '[Chorus]', '[Bridge]', etc.\n",
        "                    if line.startswith('[') and line.endswith(']'):\n",
        "                        continue  # Skip all section headers\n",
        "                    else:\n",
        "                        # Remove parentheses content like '(sha-da-da-da)' but keep text before\n",
        "                        line = re.sub(r'\\s*\\([^)]*\\)', '', line).strip()\n",
        "\n",
        "                    if line:  # Only add if there's still content after cleaning\n",
        "                        clean_lines.append(line)\n",
        "\n",
        "            cleaned_lyrics = '\\n'.join(clean_lines)\n",
        "\n",
        "            # Add to collection: Title in angle brackets on one line, lyrics on following lines\n",
        "            if cleaned_lyrics.strip():  # Only add if there are actual lyrics\n",
        "                song_section = f\"{song_title}\\n{cleaned_lyrics}\\n\\n\"\n",
        "                all_lyrics += song_section\n",
        "\n",
        "            if len(seen_titles) % 10 == 0:  # Progress update every 10 songs\n",
        "                print(f\"Processed {len(seen_titles)} unique songs...\")\n",
        "\n",
        "        except Exception as e:\n",
        "            print(f\"Error processing {song.title}: {e}\")\n",
        "            continue\n",
        "\n",
        "    print(f\"Final count: {len(seen_titles)} unique songs\")\n",
        "    return all_lyrics\n",
        "\n",
        "def save_and_download_lyrics(lyrics_text, filename=\"beatles_lyrics.txt\"):\n",
        "    \"\"\"Save lyrics to file and trigger download in Colab\"\"\"\n",
        "    with open(filename, 'w', encoding='utf-8') as f:\n",
        "        f.write(lyrics_text)\n",
        "\n",
        "    num_lines = len(lyrics_text.split('\\n'))\n",
        "    print(f\"\\nSaved {num_lines} lines to {filename}\")\n",
        "\n",
        "    files.download(filename)\n",
        "\n",
        "    return filename"
      ]
    },
    {
      "cell_type": "markdown",
      "metadata": {
        "id": "main_function"
      },
      "source": [
        "## 🚀 Main Scraper Function"
      ]
    },
    {
      "cell_type": "code",
      "execution_count": 7,
      "metadata": {
        "id": "main_function_cell",
        "colab": {
          "base_uri": "https://localhost:8080/"
        },
        "outputId": "384c8650-5406-4cb1-d4ba-8896863527ae"
      },
      "outputs": [
        {
          "output_type": "stream",
          "name": "stdout",
          "text": [
            "Main function ready!\n"
          ]
        }
      ],
      "source": [
        "def run_scraper(max_songs=200):\n",
        "    \"\"\"\n",
        "    Main function for Google Colab\n",
        "\n",
        "    Args:\n",
        "        max_songs: Maximum number of songs to scrape\n",
        "    \"\"\"\n",
        "\n",
        "    try:\n",
        "        print(\"🎸 Beatles Lyrics Scraper\")\n",
        "        print(\"=\" * 50)\n",
        "\n",
        "        print(f\"\\n=== SCRAPING LYRICS ===\")\n",
        "        lyrics = scrape_beatles_lyrics(max_songs)\n",
        "\n",
        "        print(f\"\\n=== SAVING FILE ===\")\n",
        "        save_and_download_lyrics(lyrics)\n",
        "\n",
        "        print(f\"\\nCompleted! Total characters: {len(lyrics):,}\")\n",
        "        print(f\"📄 Total songs processed: {lyrics.count}\")\n",
        "\n",
        "        return lyrics\n",
        "\n",
        "    except Exception as e:\n",
        "        print(f\"❌ Error: {e}\")\n",
        "        return None\n",
        "\n",
        "print(\"Main function ready!\")"
      ]
    },
    {
      "cell_type": "markdown",
      "metadata": {
        "id": "execution"
      },
      "source": [
        "## 🎯 Run the Scraper\n",
        "\n",
        "**Adjust `max_songs` as needed:**\n",
        "- `50` = Quick test\n",
        "- `200` = Good selection\n",
        "- `500+` = Comprehensive collection (will take longer)"
      ]
    },
    {
      "cell_type": "code",
      "execution_count": 8,
      "metadata": {
        "id": "execution_cell",
        "colab": {
          "base_uri": "https://localhost:8080/"
        },
        "outputId": "9ff261a2-efbe-48ff-fb0a-a1214f4daacf"
      },
      "outputs": [
        {
          "output_type": "stream",
          "name": "stdout",
          "text": [
            "🎸 Beatles Lyrics Scraper\n",
            "==================================================\n",
            "\n",
            "=== SCRAPING LYRICS ===\n",
            "Token loaded from Colab secrets\n",
            "Searching for The Beatles songs (max: 5)...\n",
            "❌ Error: Unexpected response status code: 403. Expected 200 or 204. Response body: <!DOCTYPE html><html lang=\"en-US\"><head><title>Just a moment...</title><meta http-equiv=\"Content-Type\" content=\"text/html; charset=UTF-8\"><meta http-equiv=\"X-UA-Compatible\" content=\"IE=Edge\"><meta name=\"robots\" content=\"noindex,nofollow\"><meta name=\"viewport\" content=\"width=device-width,initial-scale=1\"><style>*{box-sizing:border-box;margin:0;padding:0}html{line-height:1.15;-webkit-text-size-adjust:100%;color:#313131;font-family:system-ui,-apple-system,BlinkMacSystemFont,\"Segoe UI\",Roboto,\"Helvetica Neue\",Arial,\"Noto Sans\",sans-serif,\"Apple Color Emoji\",\"Segoe UI Emoji\",\"Segoe UI Symbol\",\"Noto Color Emoji\"}body{display:flex;flex-direction:column;height:100vh;min-height:100vh}.main-content{margin:8rem auto;padding-left:1.5rem;max-width:60rem}@media (width <= 720px){.main-content{margin-top:4rem}}.h2{line-height:2.25rem;font-size:1.5rem;font-weight:500}@media (width <= 720px){.h2{line-height:1.5rem;font-size:1.25rem}}#challenge-error-text{background-image:url(\"data:image/svg+xml;base64,PHN2ZyB4bWxucz0iaHR0cDovL3d3dy53My5vcmcvMjAwMC9zdmciIHdpZHRoPSIzMiIgaGVpZ2h0PSIzMiIgZmlsbD0ibm9uZSI+PHBhdGggZmlsbD0iI0IyMEYwMyIgZD0iTTE2IDNhMTMgMTMgMCAxIDAgMTMgMTNBMTMuMDE1IDEzLjAxNSAwIDAgMCAxNiAzbTAgMjRhMTEgMTEgMCAxIDEgMTEtMTEgMTEuMDEgMTEuMDEgMCAwIDEtMTEgMTEiLz48cGF0aCBmaWxsPSIjQjIwRjAzIiBkPSJNMTcuMDM4IDE4LjYxNUgxNC44N0wxNC41NjMgOS41aDIuNzgzem0tMS4wODQgMS40MjdxLjY2IDAgMS4wNTcuMzg4LjQwNy4zODkuNDA3Ljk5NCAwIC41OTYtLjQwNy45ODQtLjM5Ny4zOS0xLjA1Ny4zODktLjY1IDAtMS4wNTYtLjM4OS0uMzk4LS4zODktLjM5OC0uOTg0IDAtLjU5Ny4zOTgtLjk4NS40MDYtLjM5NyAxLjA1Ni0uMzk3Ii8+PC9zdmc+\");background-repeat:no-repeat;background-size:contain;padding-left:34px}@media (prefers-color-scheme: dark){body{background-color:#222;color:#d9d9d9}}</style><meta http-equiv=\"refresh\" content=\"360\"></head><body><div class=\"main-wrapper\" role=\"main\"><div class=\"main-content\"><noscript><div class=\"h2\"><span id=\"challenge-error-text\">Enable JavaScript and cookies to continue</span></div></noscript></div></div><script>(function(){window._cf_chl_opt = {cvId: '3',cZone: 'genius.com',cType: 'interactive',cRay: '977efd16fe41841e',cH: 'ho_HRu14ZlhSQXCDERI8pX0ssoVMSwuc35wMt5rIg2M-1756669110-1.2.1.1-9Q_FoPLbsGytpqdPR4a6D5su7Tmn2zwyLorP7JlxDLkWbR8WLL.kKWW8MI_I.b_E',cUPMDTk:\"\\/api\\/search\\/multi?q=The+Beatles&__cf_chl_tk=ZQtwbDFiYKJVAbNFVH1SpywF9Hyd.35AbNJprM816Jo-1756669110-1.0.1.1-UkQaCZ9RYtmr4SAajyOjZk0ZFO1p9KboTVPa2c9ZRyE\",cFPWv: 'b',cITimeS: '1756669110',cTplC:0,cTplV:5,cTplB: 'cf',fa:\"\\/api\\/search\\/multi?q=The+Beatles&__cf_chl_f_tk=ZQtwbDFiYKJVAbNFVH1SpywF9Hyd.35AbNJprM816Jo-1756669110-1.0.1.1-UkQaCZ9RYtmr4SAajyOjZk0ZFO1p9KboTVPa2c9ZRyE\",md: 'e9bNRrkmP19qEwseDUlnOXLAyYMfvwRwiNKBS..xNSE-1756669110-1.2.1.1-v_HzM.1h4RvZrJwOc5yNWxTA2Yzgk8103VvwQZohjablJuaxqCJII72cbk1K1ZqOOi71RFAmAcjooFYZWD3f5i83w5xOEDZYzRQoGb4yPjWqFP6nTaM6NCPhMWBt0IIGWxcA.nYSH3wF8jU6fD53NI9rPjdVTJAAohdKGcpWrzMAIBFNU1DOakZXj_TJZkm397Mjb6ctz9j9xCbxjYlInerqR_JXS2fxaWJLkgtFGtNr0Xnf8z_oHlMENF4owvA98dkoKrekT12syWrco.7naY._28fPJ4_WceiQdVxmb_7Da5ewGdmMLjUflyjtgxpcU5kTMcy0iOkwG.z7qPSlqpzzFXzPJL2aE79VI6RqczNcHL0Pgt0P4zLzbMZxeZ37M4FQfb5lBXW8QwI77kqu4NBHGx8tejCzcwaDwHbAQms8QqBG0HGHRzfMJU0wu8NPMe1V0yWsvluq2Zu5gv0ptyfuoU4NNM7fxUZtiHdEa7xx1XSeonlcRPfBX6mUjMSFa3Q794.bv6ckSnvD8vTt0NBqptLufZNK_LXdvJkwIK6Y1kHNt23k085aAoifbRRT_Oo13fs8iqEJngF5vLGGF3q4A6tiWUrZbd2BngyGPtFm67CmM0G7LCGMrzWHLF4KJnTSEjqJCQQZR8W9xqjZ8sx8BrPGrbIX.bSvZBQteVrkqbLcjAtnG8AIuJPQ34dRJ4jyL.o5srZxxLy0CweBbLbwQN.mbuNuL6rTLoUUefAAEWiUEWyOtQVWdA7MsSC3khcvv3r9Wag1evUiNlDg_684OoplVBg_VxHH9ToE_8eNSJr8aQ_KgkzzMNjyfqMSIfL2VlULmNMKJYNLEXnDOfSEyztRPsD.oLdvQJYl.FrXfPOnsA6Ntse3_3ZCllTgEMzlZNdj2RtU5JMkEXKZbdkkpmX29TzM.pf0zKi2jfi84cCo5AmqpNttRF8okkKPUHoRA8rHDQhadafwVVUMpZIDSBtSiEjyQHRLvIKDne6_cojU_CtLuLLJ1Azf8EpV',mdrd: 'jfl4L4nbkOORZx2oHV8pxSc7TU4i1Zm1sfxBvHJXdys-1756669110-1.2.1.1-lJ33eg8oJ98ufXjDWIuttOCRp0JO6lU01ZhOWKze9Kreb0zBliiMSctRqpyyedO9PW0Fniew.JBVCreG0p0f5Jqf7mN0cdIuv9I.ieS9aaSc8.vXUCtuI1OIWALVmHrw1q3voY4o5q_eBG7rN8dxrCPmYhXgz07YRuVc1VrvXUp87THMeFWSy0qfAI9ZNotJB7q7aNCzBE2.1jMw2HPKRTI9aurDXybWkrBJQFcm50tcyblfEKB.t3qQZ3RMGHnw0ZQZ2pD3y5AySSppskarYaAJ.dT7dfrm7BslaTmbHvJXW4b0GUQ9j207guT6PzJiOJFGwlTiAwMraFaGBTbOTJ_9lfY55s6LiyQRqunT4CNGiZgTeDpSVTURRkwprCEbBEvXrrBXZl8zxWHQIy_qV.KzZDVswahli2tZFB_VUlsReQYTAURJ0uxb28Q4VpET0wIoCl9LP3W9ntB0xo1A0Avv8OPX81O8cnzIENN8Wv_tlwVzl1WXf1Y6FR4mypvzhdYtF3ChIbV8zdYpYLDLFfi.PEz9zze8ASfMhASIR1ElxQ_a_lCtadBywzSe8Ekt_w8QQzQP9_C3v9oLPoJvo5DLmNg7jD72wZv..H5zi0WVHby664agPeQwUnmLDhtRfcpFRzAa3vLXyvYPlLCV705DiX.Cu8f7_5ewCuetzD9m.jXjwVP0aXU765y5B7OpdajyoLlDOa3y__mQ_fH1hKT_yS5M1YrPMbhu6ABfimqu9JAdA6_cbH7jvp2udp34ofrwquRhAE.SCuZonO7p.7KO7NZIS3NoA89I5kjKD2DFtCaFJT_lRtdYdkA1R5QpCXG6xuQh4Q__XA_TbjyNOxg5J9HhBd5gtXme1NkBVV.DdrAX_93SpsytzSS5hniq8oMrZ.KfKD2jVVp_NGwFAlwD_Qr.QzLYCA62_E0PocJVBKZl7j3tai8NDnemt7XvalOyjtwt2x9pcirvfc8bGzBaZ7mpMKYJ459Ek.3j8WHzxtWr0pd2Je5_pbWamxLhJyMdbVG5P39iD5wcqSG2ImUoxuN6jhAXtI_UdEj96xrQnv75DmXAFwZyjliF0XqvchXSDIcp5PKJBAlAhSGsmHEL9_Yl3KLDWTeVJFM4w_mXE.DGsMLwtw4YpJ0oTCxKxL9MxZTU1s4nh0U9hdPoWtqmaxa_Gx3ZSvxZTYSfuq9nrHcX0ZnORjrxCxOkfV.vF70zPTNC4q.29oEGz3yvXKC8irJsudoFkTsVUhEp0zrMe5rrY4jr0ek9xd.vBqUuCEp07y1AaKKdxZKLL37n8t2sC53qcGEETxh6XZVoCft_qhJ_MmkeIkY45ZaEWxb2POBE6k8qKcx6vSyQLmuai8MjlNkFq6PAheVzorHxlC8l.u9Gan0Vm8EloWRaGKf5CM3_eqT4C_8o423NG1tZikps403xZSwKgfinJYj5cKT.zkMshujWVtrPx0MBiidRGgK.D2eYSgMRSObrSclrefpxSLbbF.ku3uDAJElw2Qfebmt2mtv2VsK2PWJldowblt9i7pcHr76Jku1qJUwuRynAqoLn.gJQohiVflKJNYXiMPFYEvJLJqdPvuGN1mq.XiOUO0JfUX2V3qnTmwh2hUDVlU0FqlXmuEculpIQuxgtDJcwns4MUvWrdsrSe_hOjuEDADBW1VMdJUImeH4sZNromSZjWrQD5EC4oOuNYBbXDKCwe7W_DotIAnpYVHUoz.vjEf6ix7ef3XXlIzEe5wBpNSrRrE2M0QlonXXRd.za0oWhwnxE0gdsxMLcD89BLGDfdPxFFc_agQIG8vJWakGB0lqh7nK1mWkkUpLvsWBBwrH.ryK0UEfCRe41t8TMHs_xai_tVMz9e1uyioda5ceq5U79wi0O3VT8wMW_.jKao6jxhVBnMNuorz9ls7VeerHbdnICf0.Qf338GQcNY5r0sc2wCNMHBy_Mr3Nd0G_GPeOIvYHt0nLtKB7CRN4UwpQ1Z_EGvWl48mkg4zocWZoQlwri2y6EitHDCrz.7x0HGwJNmbbtojrNEHyZIKlYqhxNQExUJ7SE886Nzm3bJvwPkt_.ASgisSEAOa7NP2G8WpCrCn5fNf5ghyUAWbPLKLzHRaovOhjCI8aaD7PToGg7GrXXSgxBNfaLT6n7FK8xt1ArbRBdk_xkkW_YKhAZ',};var a = document.createElement('script');a.src = '/cdn-cgi/challenge-platform/h/b/orchestrate/chl_page/v1?ray=977efd16fe41841e';window._cf_chl_opt.cOgUHash = location.hash === '' && location.href.indexOf('#') !== -1 ? '#' : location.hash;window._cf_chl_opt.cOgUQuery = location.search === '' && location.href.slice(0, location.href.length - window._cf_chl_opt.cOgUHash.length).indexOf('?') !== -1 ? '?' : location.search;if (window.history && window.history.replaceState) {var ogU = location.pathname + window._cf_chl_opt.cOgUQuery + window._cf_chl_opt.cOgUHash;history.replaceState(null, null,\"\\/api\\/search\\/multi?q=The+Beatles&__cf_chl_rt_tk=ZQtwbDFiYKJVAbNFVH1SpywF9Hyd.35AbNJprM816Jo-1756669110-1.0.1.1-UkQaCZ9RYtmr4SAajyOjZk0ZFO1p9KboTVPa2c9ZRyE\"+ window._cf_chl_opt.cOgUHash);a.onload = function() {history.replaceState(null, null, ogU);}}document.getElementsByTagName('head')[0].appendChild(a);}());</script></body></html>. Response headers: {'Date': 'Sun, 31 Aug 2025 19:38:30 GMT', 'Content-Type': 'text/html; charset=UTF-8', 'Content-Length': '6883', 'Connection': 'close', 'accept-ch': 'Sec-CH-UA-Bitness, Sec-CH-UA-Arch, Sec-CH-UA-Full-Version, Sec-CH-UA-Mobile, Sec-CH-UA-Model, Sec-CH-UA-Platform-Version, Sec-CH-UA-Full-Version-List, Sec-CH-UA-Platform, Sec-CH-UA, UA-Bitness, UA-Arch, UA-Full-Version, UA-Mobile, UA-Model, UA-Platform-Version, UA-Platform, UA', 'cf-mitigated': 'challenge', 'critical-ch': 'Sec-CH-UA-Bitness, Sec-CH-UA-Arch, Sec-CH-UA-Full-Version, Sec-CH-UA-Mobile, Sec-CH-UA-Model, Sec-CH-UA-Platform-Version, Sec-CH-UA-Full-Version-List, Sec-CH-UA-Platform, Sec-CH-UA, UA-Bitness, UA-Arch, UA-Full-Version, UA-Mobile, UA-Model, UA-Platform-Version, UA-Platform, UA', 'cross-origin-embedder-policy': 'require-corp', 'cross-origin-opener-policy': 'same-origin', 'cross-origin-resource-policy': 'same-origin', 'origin-agent-cluster': '?1', 'permissions-policy': 'accelerometer=(),autoplay=(),browsing-topics=(),camera=(),clipboard-read=(),clipboard-write=(),geolocation=(),gyroscope=(),hid=(),interest-cohort=(),magnetometer=(),microphone=(),payment=(),publickey-credentials-get=(),screen-wake-lock=(),serial=(),sync-xhr=(),usb=()', 'referrer-policy': 'same-origin', 'server-timing': 'chlray;desc=\"977efd16fe41841e\"', 'x-content-type-options': 'nosniff', 'x-frame-options': 'SAMEORIGIN', 'Cache-Control': 'private, max-age=0, no-store, no-cache, must-revalidate, post-check=0, pre-check=0', 'Expires': 'Thu, 01 Jan 1970 00:00:01 GMT', 'Vary': 'Accept-Encoding', 'Server': 'cloudflare', 'CF-RAY': '977efd16fe41841e-TPE'}.\n",
            "❌ Scraping failed. Check your token and try again.\n"
          ]
        }
      ],
      "source": [
        "lyrics = run_scraper(max_songs=5)\n",
        "\n",
        "if lyrics:\n",
        "    print(\"\\n📝 Preview of scraped lyrics:\")\n",
        "    print(\"-\" * 30)\n",
        "    print(lyrics[:500] + \"...\")\n",
        "else:\n",
        "    print(\"❌ Scraping failed. Check your token and try again.\")"
      ]
    }
  ],
  "metadata": {
    "colab": {
      "provenance": []
    },
    "kernelspec": {
      "display_name": "Python 3",
      "name": "python3"
    },
    "language_info": {
      "name": "python"
    }
  },
  "nbformat": 4,
  "nbformat_minor": 0
}